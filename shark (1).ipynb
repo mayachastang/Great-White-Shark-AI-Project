{
 "cells": [
  {
   "cell_type": "markdown",
   "id": "07ecec38-c913-47a6-806f-d4faf411986f",
   "metadata": {},
   "source": [
    "Imports of the Python libraries I employed in this notebook:"
   ]
  },
  {
   "cell_type": "code",
   "execution_count": 1,
   "id": "8ed1d2c1-5122-4104-acdb-e861358b0d00",
   "metadata": {},
   "outputs": [],
   "source": [
    "import pandas as pd \n",
    "import datetime as dt\n",
    "import numpy as np\n",
    "import tensorflow as tf\n",
    "import math\n",
    "import matplotlib.pyplot as plt\n",
    "\n",
    "%config Completer.use_jedi = False"
   ]
  },
  {
   "cell_type": "markdown",
   "id": "23acd404-4bc3-4ce2-ab0d-f9a1af154b5f",
   "metadata": {},
   "source": [
    "Constants used to peramiterize the trajectories. The maximum time gap between each data point is 200 seconds, and the top 15 longest trajectories from each shark were selected. "
   ]
  },
  {
   "cell_type": "code",
   "execution_count": 2,
   "id": "62b7c6f4-0c63-4d4d-b464-97f1eba3d936",
   "metadata": {},
   "outputs": [],
   "source": [
    "# minimum time gap in trajectory\n",
    "time_gap = 200\n",
    "# top longest shark trajectories\n",
    "top_shark_trajs = 15"
   ]
  },
  {
   "cell_type": "markdown",
   "id": "7f4cf2f6-de72-4c3c-9482-cdb117e66bea",
   "metadata": {},
   "source": [
    "The imported CSV data file:"
   ]
  },
  {
   "cell_type": "code",
   "execution_count": 3,
   "id": "d55ded86-15ed-41df-a154-7f78fe2526cb",
   "metadata": {},
   "outputs": [],
   "source": [
    "data = pd.read_csv(\"jws_vps_dat_May-Dec_2020.csv\") "
   ]
  },
  {
   "cell_type": "markdown",
   "id": "3cce2762-61e1-4668-9921-1bdf5fbef002",
   "metadata": {},
   "source": [
    "Teaching the program to interpret date and time:"
   ]
  },
  {
   "cell_type": "code",
   "execution_count": 4,
   "id": "032174e9-9efa-439b-9e9f-b5e1774f1e30",
   "metadata": {},
   "outputs": [],
   "source": [
    "data['DateTimeUTC'] = data['DateTimeUTC'].map(lambda x: dt.datetime.strptime(x, '%Y-%m-%d %H:%M:%S'))"
   ]
  },
  {
   "cell_type": "markdown",
   "id": "ec62e187-0452-4373-bf60-2e63008836ff",
   "metadata": {},
   "source": [
    "List of all sharks tagged: "
   ]
  },
  {
   "cell_type": "code",
   "execution_count": 5,
   "id": "0ed42a49-ab95-4a5b-8d8b-d8882e8c1746",
   "metadata": {},
   "outputs": [
    {
     "data": {
      "text/plain": [
       "array(['2020-21', '2020-20', '2020-19', '2020-31', '2020-32', '2020-33',\n",
       "       '2020-13', '2020-12', '2020-16', '2020-10', '2020-17', '2020-15',\n",
       "       '2020-22', '2020-04', '2020-37', '2020-34', '2020-35_2', '2020-36',\n",
       "       '2020-40', '2020-35', '2020-41', '2020-42', '2020-43', '2020-44',\n",
       "       '2020-45', '2020-18', '2020-29'], dtype=object)"
      ]
     },
     "execution_count": 5,
     "metadata": {},
     "output_type": "execute_result"
    }
   ],
   "source": [
    "sharks = data['shark'].unique()\n",
    "sharks"
   ]
  },
  {
   "cell_type": "markdown",
   "id": "942106fe-bf89-400a-82cf-dd1fe63ebb72",
   "metadata": {},
   "source": [
    "List of all sharks with sex labled. M for male, F for female, U for unidentified"
   ]
  },
  {
   "cell_type": "code",
   "execution_count": 6,
   "id": "5a572732-7fc8-4280-858a-11cd22f7464f",
   "metadata": {},
   "outputs": [
    {
     "name": "stdout",
     "output_type": "stream",
     "text": [
      "2020-21 U\n",
      "2020-20 M\n",
      "2020-19 M\n",
      "2020-31 F\n",
      "2020-32 F\n",
      "2020-33 U\n",
      "2020-13 F\n",
      "2020-12 F\n",
      "2020-16 F\n",
      "2020-10 U\n",
      "2020-17 F\n",
      "2020-15 F\n",
      "2020-22 F\n",
      "2020-04 F\n",
      "2020-37 U\n",
      "2020-34 U\n",
      "2020-35_2 nan\n",
      "2020-36 U\n",
      "2020-40 U\n",
      "2020-35 F\n",
      "2020-41 U\n",
      "2020-42 F\n",
      "2020-43 F\n",
      "2020-44 F\n",
      "2020-45 F\n",
      "2020-18 F\n",
      "2020-29 U\n"
     ]
    }
   ],
   "source": [
    "for n in sharks:\n",
    "    print(n, data.loc[data['shark'] == n].iloc[0].sex)"
   ]
  },
  {
   "cell_type": "markdown",
   "id": "2c5c56d1-996a-478d-b222-75a4e5b5c130",
   "metadata": {},
   "source": [
    "List of all male and female sharks (excluding unidentified sharks)."
   ]
  },
  {
   "cell_type": "code",
   "execution_count": 7,
   "id": "b05864d7-532c-4c17-962c-158e26d8b0a6",
   "metadata": {},
   "outputs": [
    {
     "data": {
      "text/plain": [
       "(['2020-31',\n",
       "  '2020-32',\n",
       "  '2020-13',\n",
       "  '2020-12',\n",
       "  '2020-16',\n",
       "  '2020-17',\n",
       "  '2020-15',\n",
       "  '2020-22',\n",
       "  '2020-04',\n",
       "  '2020-35',\n",
       "  '2020-42',\n",
       "  '2020-43',\n",
       "  '2020-44',\n",
       "  '2020-45',\n",
       "  '2020-18'],\n",
       " ['2020-20', '2020-19'])"
      ]
     },
     "execution_count": 7,
     "metadata": {},
     "output_type": "execute_result"
    }
   ],
   "source": [
    "female_sharks = []\n",
    "male_sharks = []\n",
    "for n in sharks:\n",
    "    if (data.loc[data['shark'] == n].iloc[0].sex == 'F'):\n",
    "        female_sharks.append(n)\n",
    "    if (data.loc[data['shark'] == n].iloc[0].sex == 'M'):\n",
    "        male_sharks.append(n)\n",
    "\n",
    "female_sharks, male_sharks"
   ]
  },
  {
   "cell_type": "code",
   "execution_count": 8,
   "id": "3d0570dd-2b14-492c-a479-8f8dab06ec1d",
   "metadata": {},
   "outputs": [],
   "source": [
    "shark_data  = data.loc[data['shark'] == '2020-21'].sort_values(by='DateTimeUTC').to_numpy()"
   ]
  },
  {
   "cell_type": "markdown",
   "id": "3db9cb41-1ed8-4fa4-8392-ef33dfbd58be",
   "metadata": {},
   "source": [
    "Function that chunks the trajectories so that the time intervals between each data point is 200 seconds or less. "
   ]
  },
  {
   "cell_type": "code",
   "execution_count": 9,
   "id": "e6dd3490-9072-4000-80eb-6abef85228c8",
   "metadata": {},
   "outputs": [],
   "source": [
    "def chunk_data(data, seconds):\n",
    "    sub = []\n",
    "    results = []\n",
    "    for idx, n in enumerate(data):\n",
    "        if (idx < len(data) - 1):\n",
    "            delta = (data[idx + 1][1] - data[idx][1]).seconds\n",
    "            if (delta < seconds):\n",
    "                sub.append(data[idx])\n",
    "            else:\n",
    "                # Don't forget the last one\n",
    "                sub.append(data[idx])\n",
    "                results.append(sub)\n",
    "                sub = []\n",
    "    return results"
   ]
  },
  {
   "cell_type": "markdown",
   "id": "dba0aac9-30b0-4073-a5ae-aeef1684b714",
   "metadata": {},
   "source": [
    "Function that takes the matplotlib canvases (images) and turns them into two dimensional arrays of 1s and 0s. (1 indicates that a shark is plotted, 0 indicates no shark is plotted). "
   ]
  },
  {
   "cell_type": "code",
   "execution_count": 10,
   "id": "66acf582-130c-414e-9290-37e466a4a12c",
   "metadata": {},
   "outputs": [],
   "source": [
    "def canvas2binary_array(canvas):\n",
    "    canvas.draw()\n",
    "    plt_array = np.frombuffer(canvas.tostring_rgb(), dtype=np.uint8)\n",
    "    datalen = int(len(plt_array)/3)\n",
    "    a = plt_array.reshape(datalen,3)\n",
    "    data = np.zeros(datalen)\n",
    "\n",
    "    cnt = int(0)\n",
    "\n",
    "    for n in a:\n",
    "        if (255 in n):\n",
    "            data[cnt] = 0\n",
    "        else:\n",
    "            data[cnt] = 1\n",
    "        cnt = cnt + 1\n",
    "    w, h = fig.canvas.get_width_height()\n",
    "    return data.reshape(h, w)"
   ]
  },
  {
   "cell_type": "code",
   "execution_count": null,
   "id": "97cc35a2-e0fb-4ea8-a565-7742bb5eff53",
   "metadata": {},
   "outputs": [],
   "source": [
    "This code cell chunks the female trajectories into individual plots according to time: "
   ]
  },
  {
   "cell_type": "code",
   "execution_count": 11,
   "id": "f13b59da-e342-4cf3-ba2a-f213d356e916",
   "metadata": {},
   "outputs": [
    {
     "data": {
      "image/png": "[encoded data removed]",
      "text/plain": [
       "<Figure size 432x288 with 1 Axes>"
      ]
     },
     "metadata": {
      "needs_background": "light"
     },
     "output_type": "display_data"
    }
   ],
   "source": [
    "fig = plt.figure()\n",
    "\n",
    "metafemalesharks = []\n",
    "\n",
    "for s in female_sharks:\n",
    "    shark_data  = data.loc[data['shark'] == s].sort_values(by='DateTimeUTC').to_numpy()\n",
    "    chunked_shark_data = chunk_data(shark_data, time_gap)\n",
    "    chunked_shark_data.sort(key = len)\n",
    "    for n in range(-1,-top_shark_trajs, -1):\n",
    "        sample = chunked_shark_data[n]\n",
    "        times = [row[1] for row in sample]\n",
    "        lats = [row[2] for row in sample]\n",
    "        lons = [row[3] for row in sample]\n",
    "        fig.clear(True)\n",
    "        plt.plot(lats, lons)\n",
    "        plt.axis('off')\n",
    "        plt_array = canvas2binary_array(fig.canvas)\n",
    "        metafemalesharks.append(plt_array)\n",
    "\n",
    "metafemalesharks_array = np.asarray(metafemalesharks)"
   ]
  },
  {
   "cell_type": "code",
   "execution_count": null,
   "id": "37fee40c-5bfe-4d7f-9bce-747469b488cb",
   "metadata": {},
   "outputs": [],
   "source": [
    "Example female shark trajectory:"
   ]
  },
  {
   "cell_type": "code",
   "execution_count": 12,
   "id": "8b5d17c4-499e-469a-9c64-ecf963e47f19",
   "metadata": {},
   "outputs": [
    {
     "name": "stdout",
     "output_type": "stream",
     "text": [
      "(210, 288, 432)\n"
     ]
    },
    {
     "data": {
      "text/plain": [
       "<matplotlib.image.AxesImage at 0x7f8b671c8820>"
      ]
     },
     "execution_count": 12,
     "metadata": {},
     "output_type": "execute_result"
    },
    {
     "data": {
      "image/png": "[encoded data removed]",
      "text/plain": [
       "<Figure size 432x288 with 1 Axes>"
      ]
     },
     "metadata": {
      "needs_background": "light"
     },
     "output_type": "display_data"
    }
   ],
   "source": [
    "print(metafemalesharks_array.shape)\n",
    "plt.imshow(metafemalesharks_array[20])"
   ]
  },
  {
   "cell_type": "markdown",
   "id": "029bb8b4-00e3-454d-b5a5-046b1a990ebc",
   "metadata": {},
   "source": [
    "This code cell chunks the male trajectories into individual plots according to time: "
   ]
  },
  {
   "cell_type": "code",
   "execution_count": 13,
   "id": "45ff4ab6-9396-4b70-91e1-0bf884f3faa7",
   "metadata": {},
   "outputs": [
    {
     "data": {
      "image/png": "[encoded data removed]",
      "text/plain": [
       "<Figure size 432x288 with 1 Axes>"
      ]
     },
     "metadata": {
      "needs_background": "light"
     },
     "output_type": "display_data"
    }
   ],
   "source": [
    "fig = plt.figure()\n",
    "fig.clear(True)\n",
    "\n",
    "metamalesharks = []\n",
    "\n",
    "for s in male_sharks:\n",
    "    shark_data  = data.loc[data['shark'] == s].sort_values(by='DateTimeUTC').to_numpy()\n",
    "    chunked_shark_data = chunk_data(shark_data, time_gap)\n",
    "    chunked_shark_data.sort(key = len)\n",
    "    for n in range(-1,-top_shark_trajs, -1):\n",
    "        sample = chunked_shark_data[n]\n",
    "        times = [row[1] for row in sample]\n",
    "        lats = [row[2] for row in sample]\n",
    "        lons = [row[3] for row in sample]\n",
    "        fig.clear(True)\n",
    "        plt.plot(lats, lons)\n",
    "        plt.axis('off')\n",
    "        plt_array = canvas2binary_array(fig.canvas)\n",
    "        metamalesharks.append(plt_array)\n",
    "\n",
    "metamalesharks_array = np.asarray(metamalesharks)"
   ]
  },
  {
   "cell_type": "markdown",
   "id": "6425eb46-5eeb-4f54-9570-c4105a085d38",
   "metadata": {},
   "source": [
    "Example male shark trajectory:"
   ]
  },
  {
   "cell_type": "code",
   "execution_count": 14,
   "id": "7bf2fe31-0f6f-4d19-962a-9d1b1810aeaa",
   "metadata": {},
   "outputs": [
    {
     "name": "stdout",
     "output_type": "stream",
     "text": [
      "(28, 288, 432)\n"
     ]
    },
    {
     "data": {
      "text/plain": [
       "<matplotlib.image.AxesImage at 0x7f8b679c9520>"
      ]
     },
     "execution_count": 14,
     "metadata": {},
     "output_type": "execute_result"
    },
    {
     "data": {
      "image/png": "[encoded data removed]",
      "text/plain": [
       "<Figure size 432x288 with 1 Axes>"
      ]
     },
     "metadata": {
      "needs_background": "light"
     },
     "output_type": "display_data"
    }
   ],
   "source": [
    "print(metamalesharks_array.shape)\n",
    "plt.imshow(metamalesharks_array[10])"
   ]
  },
  {
   "cell_type": "markdown",
   "id": "25714b51-39a8-451a-9eff-e2632b4d6efa",
   "metadata": {},
   "source": [
    "Training array of the CNN: "
   ]
  },
  {
   "cell_type": "code",
   "execution_count": 15,
   "id": "30a62bb4-f0bb-493d-8bb2-b665cba259c3",
   "metadata": {},
   "outputs": [],
   "source": [
    "metafemalesharks_array_train = metafemalesharks_array[1::2]\n",
    "metamalesharks_array_train = metamalesharks_array[1::2]\n",
    "metafemalesharks_array_test = metafemalesharks_array[2::2]\n",
    "metamalesharks_array_test = metamalesharks_array[2::2]\n",
    "\n",
    "metasharks_array_train = np.concatenate((metafemalesharks_array_train,metamalesharks_array_train), axis = 0)\n",
    "metasharks_array_train.shape\n",
    "sex_train = np.concatenate((np.zeros(metafemalesharks_array_train.shape[0]),np.ones(metamalesharks_array_train.shape[0])), axis = 0 )\n",
    "\n",
    "metasharks_array_test = np.concatenate((metafemalesharks_array_test,metamalesharks_array_test), axis = 0)\n",
    "metasharks_array_test.shape\n",
    "sex_test = np.concatenate((np.zeros(metafemalesharks_array_test.shape[0]),np.ones(metamalesharks_array_test.shape[0])), axis = 0 )"
   ]
  },
  {
   "cell_type": "code",
   "execution_count": null,
   "id": "e2ff9760-caff-4365-b7ad-ad7372a811cf",
   "metadata": {},
   "outputs": [],
   "source": [
    "Testing array of the CNN:"
   ]
  },
  {
   "cell_type": "code",
   "execution_count": 16,
   "id": "1a35244d-1632-4f3f-9104-e53d44cbcb8f",
   "metadata": {},
   "outputs": [
    {
     "data": {
      "text/plain": [
       "array([0., 0., 0., 0., 0., 0., 0., 0., 0., 0., 0., 0., 0., 0., 0., 0., 0.,\n",
       "       0., 0., 0., 0., 0., 0., 0., 0., 0., 0., 0., 0., 0., 0., 0., 0., 0.,\n",
       "       0., 0., 0., 0., 0., 0., 0., 0., 0., 0., 0., 0., 0., 0., 0., 0., 0.,\n",
       "       0., 0., 0., 0., 0., 0., 0., 0., 0., 0., 0., 0., 0., 0., 0., 0., 0.,\n",
       "       0., 0., 0., 0., 0., 0., 0., 0., 0., 0., 0., 0., 0., 0., 0., 0., 0.,\n",
       "       0., 0., 0., 0., 0., 0., 0., 0., 0., 0., 0., 0., 0., 0., 0., 0., 0.,\n",
       "       0., 0., 1., 1., 1., 1., 1., 1., 1., 1., 1., 1., 1., 1., 1.])"
      ]
     },
     "execution_count": 16,
     "metadata": {},
     "output_type": "execute_result"
    }
   ],
   "source": [
    "sex_test"
   ]
  },
  {
   "cell_type": "code",
   "execution_count": 17,
   "id": "3d3cfe20-9072-428f-9489-7ffdd10eb2e8",
   "metadata": {
    "tags": []
   },
   "outputs": [
    {
     "name": "stderr",
     "output_type": "stream",
     "text": [
      "2022-02-19 05:35:59.979267: W tensorflow/stream_executor/platform/default/dso_loader.cc:64] Could not load dynamic library 'libcuda.so.1'; dlerror: libcuda.so.1: cannot open shared object file: No such file or directory\n",
      "2022-02-19 05:35:59.979394: W tensorflow/stream_executor/cuda/cuda_driver.cc:269] failed call to cuInit: UNKNOWN ERROR (303)\n",
      "2022-02-19 05:35:59.979483: I tensorflow/stream_executor/cuda/cuda_diagnostics.cc:156] kernel driver does not appear to be running on this host (jupyter-mayachastang): /proc/driver/nvidia/version does not exist\n",
      "2022-02-19 05:35:59.980196: I tensorflow/core/platform/cpu_feature_guard.cc:142] This TensorFlow binary is optimized with oneAPI Deep Neural Network Library (oneDNN) to use the following CPU instructions in performance-critical operations:  SSE4.1 SSE4.2 AVX AVX2 FMA\n",
      "To enable them in other operations, rebuild TensorFlow with the appropriate compiler flags.\n"
     ]
    }
   ],
   "source": [
    "import tensorflow as tf\n",
    "\n",
    "model = tf.keras.models.Sequential()\n",
    "model.add(tf.keras.layers.Flatten())\n",
    "model.add(tf.keras.layers.Dense(128, activation = tf.nn.relu))\n",
    "model.add(tf.keras.layers.Dense(128, activation = tf.nn.relu))\n",
    "model.add(tf.keras.layers.Dense(10, activation = tf.nn.softmax))"
   ]
  },
  {
   "cell_type": "code",
   "execution_count": 18,
   "id": "e30eb54e-3fe6-4d7e-be1a-90c5e0c8407b",
   "metadata": {
    "tags": []
   },
   "outputs": [
    {
     "name": "stderr",
     "output_type": "stream",
     "text": [
      "2022-02-19 05:36:00.219905: I tensorflow/compiler/mlir/mlir_graph_optimization_pass.cc:185] None of the MLIR Optimization Passes are enabled (registered 2)\n"
     ]
    },
    {
     "name": "stdout",
     "output_type": "stream",
     "text": [
      "Epoch 1/3\n",
      "4/4 [==============================] - 2s 137ms/step - loss: 1.3513 - accuracy: 0.6807\n",
      "Epoch 2/3\n",
      "4/4 [==============================] - 1s 167ms/step - loss: 0.1759 - accuracy: 0.9328\n",
      "Epoch 3/3\n",
      "4/4 [==============================] - 1s 161ms/step - loss: 0.0194 - accuracy: 1.0000\n"
     ]
    },
    {
     "data": {
      "text/plain": [
       "<keras.callbacks.History at 0x7f8b667bfb80>"
      ]
     },
     "execution_count": 18,
     "metadata": {},
     "output_type": "execute_result"
    }
   ],
   "source": [
    "model.compile(optimizer='adam',\n",
    "              loss='sparse_categorical_crossentropy',\n",
    "              metrics=['accuracy'])\n",
    "model.fit(metasharks_array_train, sex_train, epochs=3)"
   ]
  },
  {
   "cell_type": "code",
   "execution_count": 19,
   "id": "1f841ef0-12b6-431a-b3a9-cd8229cf5266",
   "metadata": {
    "tags": []
   },
   "outputs": [
    {
     "name": "stdout",
     "output_type": "stream",
     "text": [
      "4/4 [==============================] - 0s 13ms/step - loss: 0.6643 - accuracy: 0.8291\n"
     ]
    }
   ],
   "source": [
    "val_loss,val_acc = model.evaluate(metasharks_array_test, sex_test)"
   ]
  }
 ],
 "metadata": {
  "kernelspec": {
   "display_name": "Python [conda env:root] *",
   "language": "python",
   "name": "conda-root-py"
  },
  "language_info": {
   "codemirror_mode": {
    "name": "ipython",
    "version": 3
   },
   "file_extension": ".py",
   "mimetype": "text/x-python",
   "name": "python",
   "nbconvert_exporter": "python",
   "pygments_lexer": "ipython3",
   "version": "3.9.7"
  }
 },
 "nbformat": 4,
 "nbformat_minor": 5
}
